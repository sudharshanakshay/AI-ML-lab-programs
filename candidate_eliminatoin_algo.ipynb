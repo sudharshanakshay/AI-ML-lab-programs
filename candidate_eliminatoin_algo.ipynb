{
 "cells": [
  {
   "cell_type": "code",
   "execution_count": 23,
   "id": "414839f5",
   "metadata": {},
   "outputs": [
    {
     "data": {
      "text/plain": [
       "[['sunny', 'warm', 'normal', 'strong', 'warm', 'same', 'yes'],\n",
       " ['sunny', 'warm', 'high', 'strong', 'warm', 'same', 'yes'],\n",
       " ['rainy', 'cold', 'high', 'strong', 'warm', 'change', 'no'],\n",
       " ['sunny', 'warm', 'high', 'strong', 'cool', 'change', 'yes']]"
      ]
     },
     "execution_count": 23,
     "metadata": {},
     "output_type": "execute_result"
    }
   ],
   "source": [
    "from csv import reader\n",
    "\n",
    "with open(\"candidate_elimination_data.csv\") as csv:\n",
    "    csv_file = reader(csv)\n",
    "    data = list(csv_file)\n",
    "    \n",
    "data"
   ]
  },
  {
   "cell_type": "code",
   "execution_count": 24,
   "id": "a27a51f4",
   "metadata": {},
   "outputs": [
    {
     "data": {
      "text/plain": [
       "[['?', '?', '?', '?', '?', '?'],\n",
       " ['?', '?', '?', '?', '?', '?'],\n",
       " ['?', '?', '?', '?', '?', '?'],\n",
       " ['?', '?', '?', '?', '?', '?'],\n",
       " ['?', '?', '?', '?', '?', '?'],\n",
       " ['?', '?', '?', '?', '?', '?']]"
      ]
     },
     "execution_count": 24,
     "metadata": {},
     "output_type": "execute_result"
    }
   ],
   "source": [
    "specific_hypothesis = data[1][:-1]\n",
    "\n",
    "generic_hypothesis = [['?' for i in range(len(specific_hypothesis))] for j in range(len(specific_hypothesis)) ]\n",
    "\n",
    "specific_hypothesis\n",
    "generic_hypothesis"
   ]
  },
  {
   "cell_type": "code",
   "execution_count": 39,
   "id": "e9e2a3e9",
   "metadata": {},
   "outputs": [
    {
     "name": "stdout",
     "output_type": "stream",
     "text": [
      "['sunny', 'warm', '?', 'strong', '?', '?']\n",
      "\n",
      "['sunny', '?', '?', '?', '?', '?']\n",
      "['?', 'warm', '?', '?', '?', '?']\n",
      "['?', '?', '?', '?', '?', '?']\n",
      "['?', '?', '?', '?', '?', '?']\n",
      "['?', '?', '?', '?', '?', '?']\n",
      "['?', '?', '?', '?', '?', '?']\n"
     ]
    }
   ],
   "source": [
    "for i in data:\n",
    "    if i[-1] == 'yes':\n",
    "        for j in range(len(specific_hypothesis)):\n",
    "            if i[j] != specific_hypothesis[j]:\n",
    "                specific_hypothesis[j] = '?'\n",
    "                generic_hypothesis[j][j] = '?'\n",
    "                \n",
    "    elif i[-1] == 'no':\n",
    "        for j in range(len(specific_hypothesis)):\n",
    "            if i[j]!=specific_hypothesis[j]:\n",
    "                generic_hypothesis[j][j] = specific_hypothesis[j]\n",
    "            else:\n",
    "                generic_hypothesis[j][j] = '?'\n",
    "\n",
    "                \n",
    "                \n",
    "\n",
    "print(specific_hypothesis)\n",
    "print()\n",
    "\n",
    "for i in generic_hypothesis:\n",
    "    print(i)"
   ]
  }
 ],
 "metadata": {
  "kernelspec": {
   "display_name": "Python 3",
   "language": "python",
   "name": "python3"
  },
  "language_info": {
   "codemirror_mode": {
    "name": "ipython",
    "version": 3
   },
   "file_extension": ".py",
   "mimetype": "text/x-python",
   "name": "python",
   "nbconvert_exporter": "python",
   "pygments_lexer": "ipython3",
   "version": "3.8.8"
  }
 },
 "nbformat": 4,
 "nbformat_minor": 5
}
